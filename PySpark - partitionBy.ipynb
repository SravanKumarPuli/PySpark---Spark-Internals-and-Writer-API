{
 "cells": [
  {
   "cell_type": "code",
   "execution_count": 1,
   "id": "7cf19ac3",
   "metadata": {},
   "outputs": [],
   "source": [
    "from pyspark.sql import SparkSession\n",
    "import getpass\n",
    "username = getpass.getuser()\n",
    "spark = SparkSession. \\\n",
    "builder. \\\n",
    "config('spark.ui.port','0'). \\\n",
    "config(\"spark.sql.warehouse.dir\", f\"/user/{username}/warehouse\"). \\\n",
    "enableHiveSupport(). \\\n",
    "master('yarn'). \\\n",
    "getOrCreate()"
   ]
  },
  {
   "cell_type": "code",
   "execution_count": 2,
   "id": "02513903",
   "metadata": {},
   "outputs": [],
   "source": [
    "orders_schema = \"order_id long , order_date string, customer_id long, order_status string\""
   ]
  },
  {
   "cell_type": "code",
   "execution_count": 3,
   "id": "df2fe2dd",
   "metadata": {},
   "outputs": [],
   "source": [
    "orders_df = spark.read \\\n",
    ".format(\"csv\") \\\n",
    ".schema(orders_schema) \\\n",
    ".load(\"/public/trendytech/orders/orders_1gb.csv\")"
   ]
  },
  {
   "cell_type": "code",
   "execution_count": 4,
   "id": "13a85aa7",
   "metadata": {},
   "outputs": [
    {
     "name": "stdout",
     "output_type": "stream",
     "text": [
      "+--------+--------------------+-----------+---------------+\n",
      "|order_id|          order_date|customer_id|   order_status|\n",
      "+--------+--------------------+-----------+---------------+\n",
      "|       1|2013-07-25 00:00:...|      11599|         CLOSED|\n",
      "|       2|2013-07-25 00:00:...|        256|PENDING_PAYMENT|\n",
      "|       3|2013-07-25 00:00:...|      12111|       COMPLETE|\n",
      "|       4|2013-07-25 00:00:...|       8827|         CLOSED|\n",
      "|       5|2013-07-25 00:00:...|      11318|       COMPLETE|\n",
      "|       6|2013-07-25 00:00:...|       7130|       COMPLETE|\n",
      "|       7|2013-07-25 00:00:...|       4530|       COMPLETE|\n",
      "|       8|2013-07-25 00:00:...|       2911|     PROCESSING|\n",
      "|       9|2013-07-25 00:00:...|       5657|PENDING_PAYMENT|\n",
      "|      10|2013-07-25 00:00:...|       5648|PENDING_PAYMENT|\n",
      "|      11|2013-07-25 00:00:...|        918| PAYMENT_REVIEW|\n",
      "|      12|2013-07-25 00:00:...|       1837|         CLOSED|\n",
      "|      13|2013-07-25 00:00:...|       9149|PENDING_PAYMENT|\n",
      "|      14|2013-07-25 00:00:...|       9842|     PROCESSING|\n",
      "|      15|2013-07-25 00:00:...|       2568|       COMPLETE|\n",
      "|      16|2013-07-25 00:00:...|       7276|PENDING_PAYMENT|\n",
      "|      17|2013-07-25 00:00:...|       2667|       COMPLETE|\n",
      "|      18|2013-07-25 00:00:...|       1205|         CLOSED|\n",
      "|      19|2013-07-25 00:00:...|       9488|PENDING_PAYMENT|\n",
      "|      20|2013-07-25 00:00:...|       9198|     PROCESSING|\n",
      "+--------+--------------------+-----------+---------------+\n",
      "only showing top 20 rows\n",
      "\n"
     ]
    }
   ],
   "source": [
    "orders_df.show()"
   ]
  },
  {
   "cell_type": "code",
   "execution_count": 6,
   "id": "60fd6469",
   "metadata": {},
   "outputs": [],
   "source": [
    "orders_df = spark.read \\\n",
    ".format(\"csv\") \\\n",
    ".schema(orders_schema) \\\n",
    ".load(\"/user/itv009538/writer_demo/sparkwriterdemo1\")"
   ]
  },
  {
   "cell_type": "code",
   "execution_count": 7,
   "id": "401cf5cb",
   "metadata": {},
   "outputs": [],
   "source": [
    "orders_df.createOrReplaceTempView(\"orders\")"
   ]
  },
  {
   "cell_type": "code",
   "execution_count": 8,
   "id": "2eafb898",
   "metadata": {},
   "outputs": [
    {
     "data": {
      "text/html": [
       "<table border='1'>\n",
       "<tr><th>count(1)</th></tr>\n",
       "<tr><td>2833500</td></tr>\n",
       "</table>\n"
      ],
      "text/plain": [
       "+--------+\n",
       "|count(1)|\n",
       "+--------+\n",
       "| 2833500|\n",
       "+--------+"
      ]
     },
     "execution_count": 8,
     "metadata": {},
     "output_type": "execute_result"
    }
   ],
   "source": [
    "spark.sql(\"select count(*) from orders where order_status = 'CLOSED'\")"
   ]
  },
  {
   "cell_type": "code",
   "execution_count": 11,
   "id": "63466800",
   "metadata": {},
   "outputs": [],
   "source": [
    "orders_df.write \\\n",
    ".format(\"csv\") \\\n",
    ".mode(\"overwrite\") \\\n",
    ".partitionBy(\"order_status\") \\\n",
    ".option(\"path\", \"/user/itv009538/partition_demo/partition_demo_output1\") \\\n",
    ".save()"
   ]
  },
  {
   "cell_type": "code",
   "execution_count": 12,
   "id": "9e07a24a",
   "metadata": {},
   "outputs": [
    {
     "data": {
      "text/plain": [
       "9"
      ]
     },
     "execution_count": 12,
     "metadata": {},
     "output_type": "execute_result"
    }
   ],
   "source": [
    "orders_df.rdd.getNumPartitions()"
   ]
  },
  {
   "cell_type": "code",
   "execution_count": 13,
   "id": "ca00718c",
   "metadata": {},
   "outputs": [],
   "source": [
    "orders_df = spark.read \\\n",
    ".format(\"csv\") \\\n",
    ".schema(orders_schema) \\\n",
    ".load(\"/user/itv009538/partition_demo/partition_demo_output1\")"
   ]
  },
  {
   "cell_type": "code",
   "execution_count": 14,
   "id": "2b9c8706",
   "metadata": {},
   "outputs": [],
   "source": [
    "orders_df.createOrReplaceTempView(\"orders\")"
   ]
  },
  {
   "cell_type": "code",
   "execution_count": 15,
   "id": "7dd4658d",
   "metadata": {},
   "outputs": [
    {
     "data": {
      "text/html": [
       "<table border='1'>\n",
       "<tr><th>count(1)</th></tr>\n",
       "<tr><td>2833500</td></tr>\n",
       "</table>\n"
      ],
      "text/plain": [
       "+--------+\n",
       "|count(1)|\n",
       "+--------+\n",
       "| 2833500|\n",
       "+--------+"
      ]
     },
     "execution_count": 15,
     "metadata": {},
     "output_type": "execute_result"
    }
   ],
   "source": [
    "spark.sql(\"select count(*) from orders where order_status = 'CLOSED'\")"
   ]
  },
  {
   "cell_type": "code",
   "execution_count": 22,
   "id": "952e3668",
   "metadata": {},
   "outputs": [],
   "source": [
    "customers_df = spark.read \\\n",
    ".format(\"csv\") \\\n",
    ".option(\"inferSchema\", True) \\\n",
    ".load(\"/public/trendytech/retail_db/customers/part-00000\")"
   ]
  },
  {
   "cell_type": "code",
   "execution_count": 23,
   "id": "6a725599",
   "metadata": {},
   "outputs": [],
   "source": [
    "customers_final_df = customers_df.toDF(\"customer_id\", \"customer_fname\", \"customer_lname\", \"customer_email\", \"customer_password\", \"customer_street\", \"customer_city\", \"customer_state\", \"customer_zipcode\")"
   ]
  },
  {
   "cell_type": "code",
   "execution_count": 24,
   "id": "e915a4b9",
   "metadata": {},
   "outputs": [],
   "source": [
    "customers_final_df.write \\\n",
    ".format(\"parquet\")\\\n",
    ".mode(\"overwrite\") \\\n",
    ".partitionBy(\"customer_state\",\"customer_city\") \\\n",
    ".option(\"path\", \"/user/itv009538/partition_demo/partition_demo_output2\") \\\n",
    ".save()"
   ]
  },
  {
   "cell_type": "code",
   "execution_count": 2,
   "id": "8fbeba9e",
   "metadata": {},
   "outputs": [],
   "source": [
    "customers_df = spark.read \\\n",
    ".format(\"parquet\") \\\n",
    ".load(\"/user/itv009538/partition_demo/partition_demo_output2\")"
   ]
  },
  {
   "cell_type": "code",
   "execution_count": 3,
   "id": "8f16291e",
   "metadata": {},
   "outputs": [
    {
     "name": "stdout",
     "output_type": "stream",
     "text": [
      "+-----------+--------------+--------------+--------------+-----------------+--------------------+----------------+--------------+-------------+\n",
      "|customer_id|customer_fname|customer_lname|customer_email|customer_password|     customer_street|customer_zipcode|customer_state|customer_city|\n",
      "+-----------+--------------+--------------+--------------+-----------------+--------------------+----------------+--------------+-------------+\n",
      "|          3|           Ann|         Smith|     XXXXXXXXX|        XXXXXXXXX|3422 Blue Pioneer...|             725|            PR|       Caguas|\n",
      "|          5|        Robert|        Hudson|     XXXXXXXXX|        XXXXXXXXX|10 Crystal River ...|             725|            PR|       Caguas|\n",
      "|          7|       Melissa|        Wilcox|     XXXXXXXXX|        XXXXXXXXX|9453 High Concession|             725|            PR|       Caguas|\n",
      "|          9|          Mary|         Perez|     XXXXXXXXX|        XXXXXXXXX| 3616 Quaking Street|             725|            PR|       Caguas|\n",
      "|         11|          Mary|       Huffman|     XXXXXXXXX|        XXXXXXXXX|    3169 Stony Woods|             725|            PR|       Caguas|\n",
      "|         13|          Mary|       Baldwin|     XXXXXXXXX|        XXXXXXXXX|7922 Iron Oak Gar...|             725|            PR|       Caguas|\n",
      "|         16|       Tiffany|         Smith|     XXXXXXXXX|        XXXXXXXXX|      6651 Iron Port|             725|            PR|       Caguas|\n",
      "|         19|     Stephanie|      Mitchell|     XXXXXXXXX|        XXXXXXXXX|3543 Red Treasure...|             725|            PR|       Caguas|\n",
      "|         21|       William|     Zimmerman|     XXXXXXXXX|        XXXXXXXXX|3323 Old Willow M...|             725|            PR|       Caguas|\n",
      "|         24|          Mary|         Smith|     XXXXXXXXX|        XXXXXXXXX| 9417 Emerald Towers|             725|            PR|       Caguas|\n",
      "|         27|          Mary|       Vincent|     XXXXXXXXX|        XXXXXXXXX|1768 Sleepy Zephy...|             725|            PR|       Caguas|\n",
      "|         30|       Barbara|         Smith|     XXXXXXXXX|        XXXXXXXXX|   2455 Merry Hollow|             725|            PR|       Caguas|\n",
      "|         32|         Alice|         Smith|     XXXXXXXXX|        XXXXXXXXX|   2082 Hidden Green|             725|            PR|       Caguas|\n",
      "|         34|          Mary|         Smith|     XXXXXXXXX|        XXXXXXXXX|3330 Easy Berry R...|             725|            PR|       Caguas|\n",
      "|         36|      Michelle|         Carey|     XXXXXXXXX|        XXXXXXXXX| 6336 Fallen Village|             725|            PR|       Caguas|\n",
      "|         39|          Juan|      Mckinney|     XXXXXXXXX|        XXXXXXXXX|7274 Blue Wagon  ...|             725|            PR|       Caguas|\n",
      "|         43|          Mary|       Herring|     XXXXXXXXX|        XXXXXXXXX|   4575 Thunder Dale|             725|            PR|       Caguas|\n",
      "|         47|          Lori|        Fuller|     XXXXXXXXX|        XXXXXXXXX|      357 Noble Lane|             725|            PR|       Caguas|\n",
      "|         49|        Martha|         Smith|     XXXXXXXXX|        XXXXXXXXX|    7449 Merry Chase|             725|            PR|       Caguas|\n",
      "|         51|       Jessica|         Smith|     XXXXXXXXX|        XXXXXXXXX|8344 Dewy Fawn Farms|             725|            PR|       Caguas|\n",
      "+-----------+--------------+--------------+--------------+-----------------+--------------------+----------------+--------------+-------------+\n",
      "only showing top 20 rows\n",
      "\n"
     ]
    }
   ],
   "source": [
    "customers_df.show()"
   ]
  },
  {
   "cell_type": "code",
   "execution_count": 4,
   "id": "f35b850f",
   "metadata": {},
   "outputs": [
    {
     "data": {
      "text/plain": [
       "19"
      ]
     },
     "execution_count": 4,
     "metadata": {},
     "output_type": "execute_result"
    }
   ],
   "source": [
    "customers_df.rdd.getNumPartitions()"
   ]
  },
  {
   "cell_type": "code",
   "execution_count": 5,
   "id": "c86b8c37",
   "metadata": {},
   "outputs": [],
   "source": [
    "customers_df.createOrReplaceTempView(\"customers\")"
   ]
  },
  {
   "cell_type": "code",
   "execution_count": 6,
   "id": "da1e3db4",
   "metadata": {},
   "outputs": [
    {
     "name": "stdout",
     "output_type": "stream",
     "text": [
      "+-----------+--------------+--------------+--------------+-----------------+--------------------+----------------+--------------+-------------+\n",
      "|customer_id|customer_fname|customer_lname|customer_email|customer_password|     customer_street|customer_zipcode|customer_state|customer_city|\n",
      "+-----------+--------------+--------------+--------------+-----------------+--------------------+----------------+--------------+-------------+\n",
      "|         19|     Stephanie|      Mitchell|     XXXXXXXXX|        XXXXXXXXX|3543 Red Treasure...|             725|            PR|       Caguas|\n",
      "+-----------+--------------+--------------+--------------+-----------------+--------------------+----------------+--------------+-------------+\n",
      "\n"
     ]
    }
   ],
   "source": [
    "spark.sql(\"select * from customers where customer_state = 'PR' and customer_id = 19\").show()"
   ]
  },
  {
   "cell_type": "code",
   "execution_count": 7,
   "id": "6ead06a6",
   "metadata": {},
   "outputs": [
    {
     "name": "stdout",
     "output_type": "stream",
     "text": [
      "+--------+\n",
      "|count(1)|\n",
      "+--------+\n",
      "|    4584|\n",
      "+--------+\n",
      "\n"
     ]
    }
   ],
   "source": [
    "spark.sql(\"select count(*) from customers where customer_city = 'Caguas'\").show()"
   ]
  },
  {
   "cell_type": "code",
   "execution_count": null,
   "id": "96938d52",
   "metadata": {},
   "outputs": [],
   "source": []
  }
 ],
 "metadata": {
  "kernelspec": {
   "display_name": "Pyspark 2",
   "language": "python",
   "name": "pyspark2"
  },
  "language_info": {
   "codemirror_mode": {
    "name": "ipython",
    "version": 3
   },
   "file_extension": ".py",
   "mimetype": "text/x-python",
   "name": "python",
   "nbconvert_exporter": "python",
   "pygments_lexer": "ipython3",
   "version": "3.6.12"
  }
 },
 "nbformat": 4,
 "nbformat_minor": 5
}
