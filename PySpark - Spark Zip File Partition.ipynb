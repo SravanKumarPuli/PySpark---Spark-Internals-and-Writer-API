{
 "cells": [
  {
   "cell_type": "code",
   "execution_count": 36,
   "id": "cc736b13",
   "metadata": {},
   "outputs": [],
   "source": [
    "from pyspark.sql import SparkSession\n",
    "import getpass\n",
    "username = getpass.getuser()\n",
    "spark = SparkSession. \\\n",
    "builder. \\\n",
    "config('spark.ui.port', '0'). \\\n",
    "config('spark.shuffle.useOldFetchProtocol', 'true'). \\\n",
    "config(\"spark.sql.warehouse.dir\", f\"/user/{username}/warehouse\"). \\\n",
    "enableHiveSupport(). \\\n",
    "master('yarn'). \\\n",
    "getOrCreate()"
   ]
  },
  {
   "cell_type": "code",
   "execution_count": 37,
   "id": "9a073313",
   "metadata": {},
   "outputs": [],
   "source": [
    "orders_schema = \"order_id long , order_date string, cust_id long,order_status string\""
   ]
  },
  {
   "cell_type": "code",
   "execution_count": 38,
   "id": "de306e74",
   "metadata": {},
   "outputs": [],
   "source": [
    "orders_df = spark.read \\\n",
    ".format(\"csv\") \\\n",
    ".schema(orders_schema) \\\n",
    ".load(\"/public/trendytech/orders/orders_1gb.csv\")"
   ]
  },
  {
   "cell_type": "code",
   "execution_count": 4,
   "id": "6db9d4e6",
   "metadata": {},
   "outputs": [
    {
     "data": {
      "text/plain": [
       "'134217728b'"
      ]
     },
     "execution_count": 4,
     "metadata": {},
     "output_type": "execute_result"
    }
   ],
   "source": [
    "spark.conf.get(\"spark.sql.files.maxPartitionBytes\")"
   ]
  },
  {
   "cell_type": "code",
   "execution_count": 5,
   "id": "b5b1235d",
   "metadata": {},
   "outputs": [
    {
     "data": {
      "text/plain": [
       "128.0"
      ]
     },
     "execution_count": 5,
     "metadata": {},
     "output_type": "execute_result"
    }
   ],
   "source": [
    "134217728 / (1024 * 1024)"
   ]
  },
  {
   "cell_type": "code",
   "execution_count": 6,
   "id": "1afca10d",
   "metadata": {},
   "outputs": [
    {
     "data": {
      "text/plain": [
       "2"
      ]
     },
     "execution_count": 6,
     "metadata": {},
     "output_type": "execute_result"
    }
   ],
   "source": [
    "spark.sparkContext.defaultParallelism"
   ]
  },
  {
   "cell_type": "code",
   "execution_count": 8,
   "id": "8197dd84",
   "metadata": {},
   "outputs": [
    {
     "data": {
      "text/plain": [
       "9"
      ]
     },
     "execution_count": 8,
     "metadata": {},
     "output_type": "execute_result"
    }
   ],
   "source": [
    "orders_df.rdd.getNumPartitions()"
   ]
  },
  {
   "cell_type": "code",
   "execution_count": 39,
   "id": "13a66456",
   "metadata": {},
   "outputs": [],
   "source": [
    "new_orders_df = orders_df.repartition(1)"
   ]
  },
  {
   "cell_type": "code",
   "execution_count": 11,
   "id": "55376661",
   "metadata": {},
   "outputs": [
    {
     "data": {
      "text/plain": [
       "1"
      ]
     },
     "execution_count": 11,
     "metadata": {},
     "output_type": "execute_result"
    }
   ],
   "source": [
    "new_orders_df.rdd.getNumPartitions()"
   ]
  },
  {
   "cell_type": "code",
   "execution_count": 12,
   "id": "37ad0a04",
   "metadata": {},
   "outputs": [],
   "source": [
    "new_orders_df.write \\\n",
    ".format(\"csv\") \\\n",
    ".mode(\"overwrite\") \\\n",
    ".option(\"codec\", \"org.apache.hadoop.io.compress.GzipCodec\") \\\n",
    ".save(\"Week9 - Spark Internals and Writer API/orders_gz\")"
   ]
  },
  {
   "cell_type": "code",
   "execution_count": 13,
   "id": "29c1c9ef",
   "metadata": {},
   "outputs": [],
   "source": [
    "orders_df = spark.read \\\n",
    ".format(\"csv\") \\\n",
    ".schema(orders_schema) \\\n",
    ".load(\"Week9 - Spark Internals and Writer API/orders_gz\")"
   ]
  },
  {
   "cell_type": "code",
   "execution_count": 14,
   "id": "4c216ce5",
   "metadata": {},
   "outputs": [
    {
     "name": "stdout",
     "output_type": "stream",
     "text": [
      "+--------+--------------------+-------+---------------+\n",
      "|order_id|          order_date|cust_id|   order_status|\n",
      "+--------+--------------------+-------+---------------+\n",
      "|   12649|2013-10-11 00:00:...|   2789|PENDING_PAYMENT|\n",
      "|   12650|2013-10-11 00:00:...|   4566|         CLOSED|\n",
      "|   12651|2013-10-11 00:00:...|    960|       COMPLETE|\n",
      "|   12652|2013-10-11 00:00:...|   8251|PENDING_PAYMENT|\n",
      "|   12653|2013-10-11 00:00:...|   5836|        PENDING|\n",
      "|   12654|2013-10-11 00:00:...|    499|         CLOSED|\n",
      "|   12655|2013-10-11 00:00:...|   2644|       COMPLETE|\n",
      "|   12656|2013-10-11 00:00:...|    933|        PENDING|\n",
      "|   12657|2013-10-11 00:00:...|   1835|     PROCESSING|\n",
      "|   12658|2013-10-11 00:00:...|   1868|       COMPLETE|\n",
      "|   12659|2013-10-11 00:00:...|    118|     PROCESSING|\n",
      "|   12660|2013-10-11 00:00:...|  11615|PENDING_PAYMENT|\n",
      "|   12661|2013-10-11 00:00:...|   9670|        PENDING|\n",
      "|   12662|2013-10-11 00:00:...|   6465|        PENDING|\n",
      "|   12663|2013-10-11 00:00:...|  11233|        PENDING|\n",
      "|   12664|2013-10-11 00:00:...|   4417|PENDING_PAYMENT|\n",
      "|   12665|2013-10-11 00:00:...|   6924|         CLOSED|\n",
      "|   12666|2013-10-11 00:00:...|   1904|         CLOSED|\n",
      "|   12667|2013-10-11 00:00:...|   5339|         CLOSED|\n",
      "|   12668|2013-10-11 00:00:...|   6443|        ON_HOLD|\n",
      "+--------+--------------------+-------+---------------+\n",
      "only showing top 20 rows\n",
      "\n"
     ]
    }
   ],
   "source": [
    "orders_df.show()"
   ]
  },
  {
   "cell_type": "code",
   "execution_count": 16,
   "id": "7b1081a6",
   "metadata": {},
   "outputs": [
    {
     "data": {
      "text/plain": [
       "1"
      ]
     },
     "execution_count": 16,
     "metadata": {},
     "output_type": "execute_result"
    }
   ],
   "source": [
    "orders_df.rdd.getNumPartitions()"
   ]
  },
  {
   "cell_type": "code",
   "execution_count": 17,
   "id": "5efda63a",
   "metadata": {},
   "outputs": [],
   "source": [
    "new_orders_df.write \\\n",
    ".format(\"csv\") \\\n",
    ".mode(\"overwrite\") \\\n",
    ".option(\"codec\", \"snappy\") \\\n",
    ".save(\"Week9 - Spark Internals and Writer API/orders_snappy\")"
   ]
  },
  {
   "cell_type": "code",
   "execution_count": 18,
   "id": "53edcbdc",
   "metadata": {},
   "outputs": [],
   "source": [
    "orders_df = spark.read \\\n",
    ".format(\"csv\") \\\n",
    ".schema(orders_schema) \\\n",
    ".load(\"Week9 - Spark Internals and Writer API/orders_snappy\")"
   ]
  },
  {
   "cell_type": "code",
   "execution_count": 19,
   "id": "d580da0b",
   "metadata": {},
   "outputs": [
    {
     "data": {
      "text/plain": [
       "1"
      ]
     },
     "execution_count": 19,
     "metadata": {},
     "output_type": "execute_result"
    }
   ],
   "source": [
    "orders_df.rdd.getNumPartitions()"
   ]
  },
  {
   "cell_type": "code",
   "execution_count": 20,
   "id": "8566550c",
   "metadata": {},
   "outputs": [],
   "source": [
    "new_orders_df.write \\\n",
    ".mode(\"overwrite\") \\\n",
    ".save(\"Week9 - Spark Internals and Writer API/orders_parquet\")"
   ]
  },
  {
   "cell_type": "code",
   "execution_count": 21,
   "id": "3f49a3ed",
   "metadata": {},
   "outputs": [],
   "source": [
    "orders_df = spark.read \\\n",
    ".load(\"Week9 - Spark Internals and Writer API/orders_parquet\")"
   ]
  },
  {
   "cell_type": "code",
   "execution_count": 24,
   "id": "14363f41",
   "metadata": {},
   "outputs": [
    {
     "data": {
      "text/plain": [
       "7"
      ]
     },
     "execution_count": 24,
     "metadata": {},
     "output_type": "execute_result"
    }
   ],
   "source": [
    "orders_df.rdd.getNumPartitions()"
   ]
  },
  {
   "cell_type": "code",
   "execution_count": 25,
   "id": "ea01f989",
   "metadata": {},
   "outputs": [
    {
     "data": {
      "text/plain": [
       "1"
      ]
     },
     "execution_count": 25,
     "metadata": {},
     "output_type": "execute_result"
    }
   ],
   "source": [
    "new_orders_df.rdd.getNumPartitions()"
   ]
  },
  {
   "cell_type": "code",
   "execution_count": 40,
   "id": "288ed72b",
   "metadata": {},
   "outputs": [],
   "source": [
    "final_orders_df = new_orders_df.repartition(20)"
   ]
  },
  {
   "cell_type": "code",
   "execution_count": 28,
   "id": "ba95f2dd",
   "metadata": {},
   "outputs": [
    {
     "data": {
      "text/plain": [
       "20"
      ]
     },
     "execution_count": 28,
     "metadata": {},
     "output_type": "execute_result"
    }
   ],
   "source": [
    "final_orders_df.rdd.getNumPartitions()"
   ]
  },
  {
   "cell_type": "code",
   "execution_count": 29,
   "id": "63a3edbc",
   "metadata": {},
   "outputs": [],
   "source": [
    "final_orders_df.write \\\n",
    ".format(\"csv\") \\\n",
    ".mode(\"overwrite\") \\\n",
    ".save(\"Week9 - Spark Internals and Writer API/orders_final\")"
   ]
  },
  {
   "cell_type": "code",
   "execution_count": 30,
   "id": "8f10945e",
   "metadata": {},
   "outputs": [],
   "source": [
    "orders_df = spark.read \\\n",
    ".format(\"csv\") \\\n",
    ".schema(orders_schema) \\\n",
    ".load(\"Week9 - Spark Internals and Writer API/orders_final\")"
   ]
  },
  {
   "cell_type": "code",
   "execution_count": 31,
   "id": "ef85e20c",
   "metadata": {},
   "outputs": [
    {
     "data": {
      "text/plain": [
       "10"
      ]
     },
     "execution_count": 31,
     "metadata": {},
     "output_type": "execute_result"
    }
   ],
   "source": [
    "orders_df.rdd.getNumPartitions()"
   ]
  },
  {
   "cell_type": "code",
   "execution_count": null,
   "id": "14fdfe5a",
   "metadata": {},
   "outputs": [],
   "source": []
  }
 ],
 "metadata": {
  "kernelspec": {
   "display_name": "Pyspark 3",
   "language": "python",
   "name": "pyspark3"
  },
  "language_info": {
   "codemirror_mode": {
    "name": "ipython",
    "version": 3
   },
   "file_extension": ".py",
   "mimetype": "text/x-python",
   "name": "python",
   "nbconvert_exporter": "python",
   "pygments_lexer": "ipython3",
   "version": "3.6.12"
  }
 },
 "nbformat": 4,
 "nbformat_minor": 5
}
