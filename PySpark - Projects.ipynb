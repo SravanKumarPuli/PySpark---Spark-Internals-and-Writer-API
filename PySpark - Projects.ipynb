{
 "cells": [
  {
   "cell_type": "markdown",
   "id": "9786724c",
   "metadata": {},
   "source": [
    "#### OpenaSparkNotebookandcreateasparkbasedataframebyreadingallthefilesunder/public/sms/usersfolder.Docheckhowmanypartitionsarecreatedinyourdataframe."
   ]
  },
  {
   "cell_type": "code",
   "execution_count": 1,
   "id": "5eaeeb8c",
   "metadata": {},
   "outputs": [],
   "source": [
    "from pyspark.sql import SparkSession\n",
    "import getpass\n",
    "username = getpass.getuser()\n",
    "\n",
    "spark = SparkSession \\\n",
    ".builder \\\n",
    ".config('spark.ui.port', '0') \\\n",
    ".config('spark.shuffle.useOldFetchProtocol', 'true') \\\n",
    ".enableHiveSupport() \\\n",
    ".master('yarn') \\\n",
    ".getOrCreate()"
   ]
  },
  {
   "cell_type": "code",
   "execution_count": 2,
   "id": "0af30f8c",
   "metadata": {},
   "outputs": [
    {
     "data": {
      "text/html": [
       "\n",
       "            <div>\n",
       "                <p><b>SparkSession - hive</b></p>\n",
       "                \n",
       "        <div>\n",
       "            <p><b>SparkContext</b></p>\n",
       "\n",
       "            <p><a href=\"http://g01.itversity.com:37723\">Spark UI</a></p>\n",
       "\n",
       "            <dl>\n",
       "              <dt>Version</dt>\n",
       "                <dd><code>v3.1.2</code></dd>\n",
       "              <dt>Master</dt>\n",
       "                <dd><code>yarn</code></dd>\n",
       "              <dt>AppName</dt>\n",
       "                <dd><code>pyspark-shell</code></dd>\n",
       "            </dl>\n",
       "        </div>\n",
       "        \n",
       "            </div>\n",
       "        "
      ],
      "text/plain": [
       "<pyspark.sql.session.SparkSession at 0x7f88cd537278>"
      ]
     },
     "execution_count": 2,
     "metadata": {},
     "output_type": "execute_result"
    }
   ],
   "source": [
    "spark"
   ]
  },
  {
   "cell_type": "code",
   "execution_count": 3,
   "id": "38181c3a",
   "metadata": {},
   "outputs": [],
   "source": [
    "from pyspark.sql.types import *\n",
    "users_schema = StructType([\n",
    "    StructField(\"user_id\", IntegerType(), nullable=False)\n",
    "    , StructField(\"user_first_name\", StringType(), nullable = False)\n",
    "    , StructField(\"user_last_name\", StringType(), nullable = False)\n",
    "    , StructField(\"user_email\", StringType(), nullable = False)\n",
    "    , StructField(\"user_gender\", StringType(), nullable = False)\n",
    "    , StructField(\"user_phone_numbers\", ArrayType(StringType()), nullable = True)\n",
    "    , StructField(\"user_address\", StructType([\n",
    "        StructField(\"street\", StringType(), nullable = False)\n",
    "        , StructField(\"city\", StringType(), nullable = False)\n",
    "        , StructField(\"state\", StringType(), nullable = False)\n",
    "        , StructField(\"postal_code\", StringType(), nullable = False)\n",
    "    ]), nullable = False)\n",
    "])"
   ]
  },
  {
   "cell_type": "code",
   "execution_count": 4,
   "id": "9973d7c4",
   "metadata": {},
   "outputs": [],
   "source": [
    "users_df = spark.read \\\n",
    ".format(\"json\") \\\n",
    ".schema(users_schema) \\\n",
    ".load(\"/public/sms/users\")"
   ]
  },
  {
   "cell_type": "code",
   "execution_count": 5,
   "id": "a19d2b5a",
   "metadata": {},
   "outputs": [
    {
     "name": "stdout",
     "output_type": "stream",
     "text": [
      "+-------+---------------+--------------+--------------------+-----------+--------------------+--------------------+\n",
      "|user_id|user_first_name|user_last_name|          user_email|user_gender|  user_phone_numbers|        user_address|\n",
      "+-------+---------------+--------------+--------------------+-----------+--------------------+--------------------+\n",
      "| 200001|         Eirena|     Cutsforth|ecutsforth0@wisc.edu|     Female|[4197404036, 9173...|{8 Warrior Drive,...|\n",
      "| 200002|          Marja|      Shopcott|mshopcott1@hexun.com|     Female|[9542037028, 2128...|{66 Prairieview T...|\n",
      "| 200003|           Dawn|       Tointon|  dtointon2@ucsd.edu|     Female|[9523035647, 2134...|{18 Ronald Regan ...|\n",
      "| 200004|          Goldi|        Leaman|     gleaman3@360.cn|     Female|[2027069459, 7042...|{7696 Calypso Jun...|\n",
      "| 200005|       Brewster|      Hallagan|bhallagan4@livejo...|       Male|[8134746319, 2152...|{942 Emmet Park, ...|\n",
      "| 200006|       Florence|       Glashby|fglashby5@deviant...|     Female|[7571763565, 7134...|{664 Ridge Oak Ci...|\n",
      "| 200007|         Zollie|     Philimore|zphilimore6@webed...|       Male|[7865450177, 8019...|{4 Continental Dr...|\n",
      "| 200008|      Ferdinand|       Ramelot| framelot7@alexa.com|       Male|        [8164055187]|{44698 Arapahoe P...|\n",
      "| 200009|          Ruddy|     Greystoke|rgreystoke8@digg.com|       Male|                null|{null, null, null...|\n",
      "| 200010|         Gilles|         Beeho|   gbeeho9@webmd.com|       Male|[5599886694, 5201...|{9430 Reinke Park...|\n",
      "| 200011|           Axel|    Kitchinham|akitchinhama@nave...|       Male|        [2036913158]|{688 Granby Point...|\n",
      "| 200012|         Moreen|      Pearmine|mpearmineb@github...|     Female|        [4047148129]|{3997 Russell Par...|\n",
      "| 200013|       Joceline|       Adshead|jadsheadc@joomla.org|     Female|[3134837460, 3022...|{89 Fair Oaks Ter...|\n",
      "| 200014|          Roxie|       Menichi|rmenichid@nationa...|     Female|[6148474898, 9034...|{3 Green Pass, Fo...|\n",
      "| 200015|         Selena|         Flood|sfloode@delicious...|     Female|[7274706417, 4026...|{2 Butterfield Cr...|\n",
      "| 200016|         Leoine|      Markovic|  lmarkovicf@usa.gov|     Female|                null|{null, null, null...|\n",
      "| 200017|           Judi|      Svanetti|jsvanettig@theglo...|     Female|[2158389703, 8169...|{1 Sheridan Pass,...|\n",
      "| 200018|     Hildegarde|         Hapke|     hhapkeh@nps.gov|     Female|        [8183692525]|{60 Oak Valley St...|\n",
      "| 200019|          Hanni|       Dommett|hdommetti@tinyurl...|     Female|[7868201036, 7048...|{5 Vera Point, Wi...|\n",
      "| 200020|         Rupert|       Gaskoin|rgaskoinj@mozilla...|       Male|[5623065887, 9198...|{52636 Heath Alle...|\n",
      "+-------+---------------+--------------+--------------------+-----------+--------------------+--------------------+\n",
      "only showing top 20 rows\n",
      "\n"
     ]
    }
   ],
   "source": [
    "users_df.show()"
   ]
  },
  {
   "cell_type": "code",
   "execution_count": 6,
   "id": "64655f5f",
   "metadata": {},
   "outputs": [
    {
     "data": {
      "text/plain": [
       "3"
      ]
     },
     "execution_count": 6,
     "metadata": {},
     "output_type": "execute_result"
    }
   ],
   "source": [
    "users_df.rdd.getNumPartitions()"
   ]
  },
  {
   "cell_type": "code",
   "execution_count": 7,
   "id": "6e19ab08",
   "metadata": {},
   "outputs": [
    {
     "data": {
      "text/plain": [
       "1000000"
      ]
     },
     "execution_count": 7,
     "metadata": {},
     "output_type": "execute_result"
    }
   ],
   "source": [
    "users_df.count()"
   ]
  },
  {
   "cell_type": "code",
   "execution_count": 8,
   "id": "c8c1274c",
   "metadata": {},
   "outputs": [
    {
     "data": {
      "text/plain": [
       "49576"
      ]
     },
     "execution_count": 8,
     "metadata": {},
     "output_type": "execute_result"
    }
   ],
   "source": [
    "users_df.filter(\"user_address.state = 'New York'\").count()"
   ]
  },
  {
   "cell_type": "code",
   "execution_count": 9,
   "id": "63914da0",
   "metadata": {},
   "outputs": [],
   "source": [
    "from pyspark.sql.functions import *\n",
    "num_of_postal_codes_df = users_df.groupBy(\"user_address.state\").agg(countDistinct(\"user_address.postal_code\").alias('num_of_postal_codes'))"
   ]
  },
  {
   "cell_type": "code",
   "execution_count": 10,
   "id": "8218fb99",
   "metadata": {},
   "outputs": [
    {
     "name": "stdout",
     "output_type": "stream",
     "text": [
      "+----------+-------------------+\n",
      "|     state|num_of_postal_codes|\n",
      "+----------+-------------------+\n",
      "|California|                206|\n",
      "+----------+-------------------+\n",
      "only showing top 1 row\n",
      "\n"
     ]
    }
   ],
   "source": [
    "num_of_postal_codes_df.orderBy(desc(\"num_of_postal_codes\")).show(1)"
   ]
  },
  {
   "cell_type": "code",
   "execution_count": 11,
   "id": "03c900e1",
   "metadata": {},
   "outputs": [],
   "source": [
    "num_of_max_users_df = users_df.filter(\"user_address.city is not null\").groupBy(\"user_address.city\").agg(countDistinct(\"user_id\").alias(\"num_of_users\"))"
   ]
  },
  {
   "cell_type": "code",
   "execution_count": 12,
   "id": "39513135",
   "metadata": {},
   "outputs": [
    {
     "name": "stdout",
     "output_type": "stream",
     "text": [
      "+----------+------------+\n",
      "|      city|num_of_users|\n",
      "+----------+------------+\n",
      "|Washington|       28504|\n",
      "+----------+------------+\n",
      "only showing top 1 row\n",
      "\n"
     ]
    }
   ],
   "source": [
    "num_of_max_users_df.orderBy(desc(\"num_of_users\")).show(1)"
   ]
  },
  {
   "cell_type": "code",
   "execution_count": 13,
   "id": "627d4452",
   "metadata": {},
   "outputs": [],
   "source": [
    "bizjournal_users_df = users_df.select('user_id').where(\"user_email like '%bizjournals.com'\")"
   ]
  },
  {
   "cell_type": "code",
   "execution_count": 14,
   "id": "52aac8d3",
   "metadata": {},
   "outputs": [
    {
     "data": {
      "text/plain": [
       "2015"
      ]
     },
     "execution_count": 14,
     "metadata": {},
     "output_type": "execute_result"
    }
   ],
   "source": [
    "bizjournal_users_df.distinct().count()"
   ]
  },
  {
   "cell_type": "code",
   "execution_count": 16,
   "id": "72dbb7d0",
   "metadata": {},
   "outputs": [
    {
     "data": {
      "text/plain": [
       "179041"
      ]
     },
     "execution_count": 16,
     "metadata": {},
     "output_type": "execute_result"
    }
   ],
   "source": [
    "users_df.select(\"user_id\").where(\"size(user_phone_numbers) = 4\").distinct().count()"
   ]
  },
  {
   "cell_type": "code",
   "execution_count": 17,
   "id": "dd3c9c2d",
   "metadata": {},
   "outputs": [
    {
     "data": {
      "text/plain": [
       "108981"
      ]
     },
     "execution_count": 17,
     "metadata": {},
     "output_type": "execute_result"
    }
   ],
   "source": [
    "users_df.select(\"user_id\").where(\"size(user_phone_numbers) = -1\").distinct().count()"
   ]
  },
  {
   "cell_type": "code",
   "execution_count": 19,
   "id": "06cced65",
   "metadata": {},
   "outputs": [],
   "source": [
    "users_df.write \\\n",
    ".format(\"parquet\") \\\n",
    ".mode(\"overwrite\") \\\n",
    ".option(\"path\", \"/user/itv009538/week9/project\") \\\n",
    ".save()"
   ]
  },
  {
   "cell_type": "code",
   "execution_count": null,
   "id": "7a34abde",
   "metadata": {},
   "outputs": [],
   "source": []
  }
 ],
 "metadata": {
  "kernelspec": {
   "display_name": "Pyspark 3",
   "language": "python",
   "name": "pyspark3"
  },
  "language_info": {
   "codemirror_mode": {
    "name": "ipython",
    "version": 3
   },
   "file_extension": ".py",
   "mimetype": "text/x-python",
   "name": "python",
   "nbconvert_exporter": "python",
   "pygments_lexer": "ipython3",
   "version": "3.6.12"
  }
 },
 "nbformat": 4,
 "nbformat_minor": 5
}
